{
 "cells": [
  {
   "cell_type": "markdown",
   "metadata": {},
   "source": [
    "1.Даны значения величины заработной платы заемщиков банка (zp) и значения их поведенческого кредитного скоринга (ks):\n",
    "zp = [35, 45, 190, 200, 40, 70, 54, 150, 120, 110],\n",
    "ks = [401, 574, 874, 919, 459, 739, 653, 902, 746, 832].\n",
    "Найдите ковариацию этих двух величин с помощью элементарных действий, а затем с помощью функции cov из numpy\n",
    "Полученные значения должны быть равны.\n",
    "Найдите коэффициент корреляции Пирсона с помощью ковариации и среднеквадратичных отклонений двух признаков,\n",
    "а затем с использованием функций из библиотек numpy и pandas."
   ]
  },
  {
   "cell_type": "code",
   "execution_count": 11,
   "metadata": {},
   "outputs": [
    {
     "data": {
      "text/plain": [
       "(9157.839999999997,\n",
       " array([[ 3494.64,  9157.84],\n",
       "        [ 9157.84, 30468.89]]),\n",
       " array([[1.        , 0.88749009],\n",
       "        [0.88749009, 1.        ]]),\n",
       " array([[0.33866702, 0.88749009],\n",
       "        [0.88749009, 2.95275283]]))"
      ]
     },
     "execution_count": 11,
     "metadata": {},
     "output_type": "execute_result"
    }
   ],
   "source": [
    "import numpy as np\n",
    "import pylab\n",
    "import scipy.stats as stats\n",
    "zp=np.array( [35, 45, 190, 200, 40, 70, 54, 150, 120, 110])\n",
    "ks=np.array([401, 574, 874, 919, 459, 739, 653, 902, 746, 832])\n",
    "cov1=np.mean(zp*ks)-np.mean(zp)*np.mean(ks)\n",
    "stdzp=np.std(zp,ddof=0)\n",
    "stdks=np.std(ks,ddof=0)\n",
    "cov2=np.cov(zp,ks,ddof=0)\n",
    "cor1=np.corrcoef(zp,ks)\n",
    "cor2=cov2/(stdzp*stdks)\n",
    "cov1,cov2,cor1,cor2"
   ]
  },
  {
   "cell_type": "markdown",
   "metadata": {},
   "source": [
    "2.Измерены значения IQ выборки студентов,\n",
    "обучающихся в местных технических вузах:\n",
    "131, 125, 115, 122, 131, 115, 107, 99, 125, 111.\n",
    "Известно, что в генеральной совокупности IQ распределен нормально.\n",
    "Найдите доверительный интервал для математического ожидания с надежностью 0.95."
   ]
  },
  {
   "cell_type": "code",
   "execution_count": 21,
   "metadata": {},
   "outputs": [
    {
     "data": {
      "text/plain": [
       "(110.55660776308164, 125.64339223691834)"
      ]
     },
     "execution_count": 21,
     "metadata": {},
     "output_type": "execute_result"
    }
   ],
   "source": [
    "iq=np.array([131, 125, 115, 122, 131, 115, 107, 99, 125, 111])\n",
    "a=0.05\n",
    "Mx=np.mean(iq)\n",
    "Dx=np.var(iq)\n",
    "std=np.std(iq,ddof=1)\n",
    "leniq=len(iq)\n",
    "Tt=2.262\n",
    "LeftBorder=Mx-Tt*std/(10**0.5)\n",
    "RightBorder=Mx+Tt*std/(10**0.5)\n",
    "LeftBorder,RightBorder"
   ]
  },
  {
   "cell_type": "markdown",
   "metadata": {},
   "source": [
    "3.Известно, что рост футболистов в сборной распределен нормально\n",
    "с дисперсией генеральной совокупности, равной 25 кв.см. Объем выборки равен 27,\n",
    "среднее выборочное составляет 174.2. Найдите доверительный интервал для математического ожидания с альфа =0,95"
   ]
  },
  {
   "cell_type": "code",
   "execution_count": 25,
   "metadata": {},
   "outputs": [
    {
     "data": {
      "text/plain": [
       "(172.31398912064722, 176.08601087935276)"
      ]
     },
     "execution_count": 25,
     "metadata": {},
     "output_type": "execute_result"
    }
   ],
   "source": [
    "n=27\n",
    "Dxgen=25\n",
    "Stdgen=5\n",
    "Stdx=Stdgen/(27**0.5)\n",
    "Zt=1.96\n",
    "Mx=174.2\n",
    "LeftBorder=Mx-Zt*Stdx\n",
    "RightBorder=Mx+Zt*Stdx\n",
    "LeftBorder,RightBorder"
   ]
  }
 ],
 "metadata": {
  "kernelspec": {
   "display_name": "Python 3",
   "language": "python",
   "name": "python3"
  },
  "language_info": {
   "codemirror_mode": {
    "name": "ipython",
    "version": 3
   },
   "file_extension": ".py",
   "mimetype": "text/x-python",
   "name": "python",
   "nbconvert_exporter": "python",
   "pygments_lexer": "ipython3",
   "version": "3.7.6"
  }
 },
 "nbformat": 4,
 "nbformat_minor": 4
}
