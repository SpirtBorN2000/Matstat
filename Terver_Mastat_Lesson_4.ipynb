{
 "cells": [
  {
   "cell_type": "markdown",
   "metadata": {},
   "source": [
    "1.Случайная непрерывная величина A имеет равномерное распределение на промежутке (200, 800].\n",
    "Найдите ее среднее значение и дисперсию."
   ]
  },
  {
   "cell_type": "code",
   "execution_count": 13,
   "metadata": {},
   "outputs": [],
   "source": [
    "import numpy as np"
   ]
  },
  {
   "cell_type": "code",
   "execution_count": 21,
   "metadata": {},
   "outputs": [
    {
     "data": {
      "text/plain": [
       "(500.5, 500.5, 29999.916666666668, 29999.916666666668, 173.2048401941085)"
      ]
     },
     "execution_count": 21,
     "metadata": {},
     "output_type": "execute_result"
    }
   ],
   "source": [
    "A=np.arange(201,801,1)\n",
    "Mx=A.mean()\n",
    "CredneeA=sum(A)/len(A)\n",
    "Dx1=A.var()\n",
    "Dx2=((A-CredneeA)**2).sum()/len(A)\n",
    "stdx=A.std()\n",
    "Mx,CredneeA,Dx1,Dx2,stdx"
   ]
  },
  {
   "cell_type": "markdown",
   "metadata": {},
   "source": [
    "2.О случайной непрерывной равномерно распределенной величине B известно, что ее дисперсия равна 0.2.\n",
    "Можно ли найти правую границу величины B и ее среднее значение зная, что левая граница равна 0.5?\n",
    "Если да, найдите ее."
   ]
  },
  {
   "cell_type": "code",
   "execution_count": 25,
   "metadata": {},
   "outputs": [
    {
     "data": {
      "text/plain": [
       "(0.4472135954999579, 0.9472135954999579, 1.3944271909999157)"
      ]
     },
     "execution_count": 25,
     "metadata": {},
     "output_type": "execute_result"
    }
   ],
   "source": [
    "Dx=0.2\n",
    "SKO=np.sqrt(Dx)\n",
    "Leftborder=0.5\n",
    "Mx=Leftborder+SKO\n",
    "Rightborder=Mx+SKO\n",
    "SKO,Mx,Rightborder"
   ]
  },
  {
   "cell_type": "markdown",
   "metadata": {},
   "source": [
    "Левую границу понял как -сигма, т.е. нужно было найти +сигма, если имелась ввиду граница -3cигма то в формулу дописать коэффициент 3"
   ]
  },
  {
   "cell_type": "markdown",
   "metadata": {},
   "source": [
    "3.Непрерывная случайная величина X распределена нормально и задана плотностью распределения \n",
    "f(x) = (1 / (4 * sqrt(2*pi))) * (exp(-((x+2)**2) / 32))\n",
    "Найдите:\n",
    "а). M(X)\n",
    "б). D(X)\n",
    "в). std(X) (среднее квадратичное отклонение)"
   ]
  },
  {
   "cell_type": "markdown",
   "metadata": {},
   "source": [
    " Исходя из формулы нормального распределения мы можем найти необходимые нам значения прямо из данной формулы "
   ]
  },
  {
   "cell_type": "code",
   "execution_count": 19,
   "metadata": {},
   "outputs": [
    {
     "data": {
      "text/plain": [
       "(-2, 16, 4)"
      ]
     },
     "execution_count": 19,
     "metadata": {},
     "output_type": "execute_result"
    }
   ],
   "source": [
    "Mx=-2\n",
    "Dx=16\n",
    "stdx=4\n",
    "Mx,Dx,stdx\n"
   ]
  },
  {
   "cell_type": "markdown",
   "metadata": {},
   "source": [
    "4.Рост взрослого населения города X имеет нормальное распределение.\n",
    "Причем, средний рост равен 174 см, а среднее квадратичное отклонение равно 8 см.\n",
    "Какова вероятность того, что случайным образом выбранный взрослый человек имеет рост:\n",
    "а). больше 182 см\n",
    "б). больше 190 см\n",
    "в). от 166 см до 190 см\n",
    "г). от 166 см до 182 см\n",
    "д). от 158 см до 190 см\n",
    "е). не выше 150 см или не ниже 190 см\n",
    "ё). не выше 150 см или не ниже 198 см\n",
    "ж). ниже 166 см."
   ]
  },
  {
   "cell_type": "code",
   "execution_count": null,
   "metadata": {},
   "outputs": [],
   "source": [
    "Mx=174\n",
    "stdx=8\n",
    "dx=16"
   ]
  },
  {
   "cell_type": "markdown",
   "metadata": {},
   "source": [
    "166-182(-G G), 158-190 (-2G 2G) ,150-198 (-3G 3G) Ниже представление в процентах"
   ]
  },
  {
   "cell_type": "code",
   "execution_count": 8,
   "metadata": {},
   "outputs": [
    {
     "data": {
      "text/plain": [
       "(15.86,\n",
       " 2.1599999999999966,\n",
       " 81.7,\n",
       " 68,\n",
       " 95.4,\n",
       " 2.299999999999997,\n",
       " 0.28000000000000114,\n",
       " 16.0)"
      ]
     },
     "execution_count": 8,
     "metadata": {},
     "output_type": "execute_result"
    }
   ],
   "source": [
    "A=(99.72-68)/2\n",
    "B=(99.72-95.4)/2\n",
    "V=68+((95.4-68)/2)\n",
    "G=68\n",
    "D=95.4\n",
    "E=(100-99.72)/2+(99.72-95.4)/2\n",
    "E2=100-99.72\n",
    "J=(100-68)/2\n",
    "A,B,V,G,D,E,E2,J"
   ]
  },
  {
   "cell_type": "markdown",
   "metadata": {},
   "source": [
    "5.На сколько сигм (средних квадратичных отклонений) отклоняется рост человека, равный 190 см, от\n",
    "математического ожидания роста в популяции, в которой M(X) = 178 см и D(X) = 25 кв.см?"
   ]
  },
  {
   "cell_type": "code",
   "execution_count": 10,
   "metadata": {},
   "outputs": [],
   "source": [
    "Mx=178\n",
    "x=190\n",
    "dx=25\n",
    "stdx=5"
   ]
  },
  {
   "cell_type": "code",
   "execution_count": 12,
   "metadata": {},
   "outputs": [
    {
     "data": {
      "text/plain": [
       "(2.4, 0.9981)"
      ]
     },
     "execution_count": 12,
     "metadata": {},
     "output_type": "execute_result"
    }
   ],
   "source": [
    "Z=(x-Mx)/stdx\n",
    "Ptabl=0.9981\n",
    "Z,Ptabl"
   ]
  }
 ],
 "metadata": {
  "kernelspec": {
   "display_name": "Python 3",
   "language": "python",
   "name": "python3"
  },
  "language_info": {
   "codemirror_mode": {
    "name": "ipython",
    "version": 3
   },
   "file_extension": ".py",
   "mimetype": "text/x-python",
   "name": "python",
   "nbconvert_exporter": "python",
   "pygments_lexer": "ipython3",
   "version": "3.7.6"
  }
 },
 "nbformat": 4,
 "nbformat_minor": 4
}
