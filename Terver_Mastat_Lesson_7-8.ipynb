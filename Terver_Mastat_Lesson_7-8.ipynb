{
 "cells": [
  {
   "cell_type": "markdown",
   "metadata": {},
   "source": [
    "Lesson 7"
   ]
  },
  {
   "cell_type": "markdown",
   "metadata": {},
   "source": [
    "1. Даны значения величины заработной платы заемщиков банка (zp) и значения их поведенческого кредитного скоринга (ks): zp = [35, 45, 190, 200, 40, 70, 54, 150, 120, 110], ks = [401, 574, 874, 919, 459, 739, 653, 902, 746, 832]. Используя математические операции, посчитать коэффициенты линейной регрессии, приняв за X заработную плату (то есть, zp - признак), а за y - значения скорингового балла (то есть, ks - целевая переменная). Произвести расчет как с использованием intercept, так и без."
   ]
  },
  {
   "cell_type": "code",
   "execution_count": 3,
   "metadata": {},
   "outputs": [],
   "source": [
    "import pandas as pd\n",
    "import numpy as np\n",
    "import matplotlib.pyplot as plt\n",
    "%matplotlib inline"
   ]
  },
  {
   "cell_type": "code",
   "execution_count": 23,
   "metadata": {},
   "outputs": [
    {
     "data": {
      "text/plain": [
       "(2.620538882402765,\n",
       " 444.1773573243596,\n",
       " 6470.414201176659,\n",
       " array([ 35,  45, 190, 200,  40,  70,  54, 150, 120, 110]))"
      ]
     },
     "execution_count": 23,
     "metadata": {},
     "output_type": "execute_result"
    }
   ],
   "source": [
    "zp = np.array([35, 45, 190, 200, 40, 70, 54, 150, 120, 110])\n",
    "ks = np.array([401, 574, 874, 919, 459, 739, 653, 902, 746, 832])\n",
    "b = ((zp * ks).mean() - zp.mean() * ks.mean()) / ((zp ** 2).mean() - (zp.mean() ** 2))\n",
    "a = ks.mean() - b * zp.mean()\n",
    "mse = np.sum(((a + b * zp) - ks) ** 2 / 10)\n",
    "b,a,mse, zp"
   ]
  },
  {
   "cell_type": "markdown",
   "metadata": {},
   "source": [
    "C интерсепт"
   ]
  },
  {
   "cell_type": "code",
   "execution_count": 27,
   "metadata": {},
   "outputs": [
    {
     "data": {
      "text/plain": [
       "array([[  1.,   1.,   1.,   1.,   1.,   1.,   1.,   1.,   1.,   1.],\n",
       "       [ 35.,  45., 190., 200.,  40.,  70.,  54., 150., 120., 110.]])"
      ]
     },
     "execution_count": 27,
     "metadata": {},
     "output_type": "execute_result"
    }
   ],
   "source": [
    "zp1 = np.vstack([np.ones((1, 10)), zp])"
   ]
  },
  {
   "cell_type": "code",
   "execution_count": 28,
   "metadata": {},
   "outputs": [
    {
     "data": {
      "text/plain": [
       "array([[444.17735732],\n",
       "       [  2.62053888]])"
      ]
     },
     "execution_count": 28,
     "metadata": {},
     "output_type": "execute_result"
    }
   ],
   "source": [
    "np.dot(np.dot(np.linalg.inv(np.dot(zp1, zp1.T)), zp1), ks.T)"
   ]
  },
  {
   "cell_type": "markdown",
   "metadata": {},
   "source": [
    "Без интерсепт"
   ]
  },
  {
   "cell_type": "code",
   "execution_count": 24,
   "metadata": {},
   "outputs": [
    {
     "data": {
      "text/plain": [
       "array([[5.88982042]])"
      ]
     },
     "execution_count": 24,
     "metadata": {},
     "output_type": "execute_result"
    }
   ],
   "source": [
    "zp2 = zp.reshape(1, len(zp))\n",
    "ks = ks.reshape(1, len(ks))\n",
    "d=np.dot(np.dot(np.linalg.inv(np.dot(zp2, zp2.T)), zp2), ks.T)\n",
    "d"
   ]
  },
  {
   "cell_type": "code",
   "execution_count": 25,
   "metadata": {},
   "outputs": [
    {
     "data": {
      "text/plain": [
       "56516.85841571942"
      ]
     },
     "execution_count": 25,
     "metadata": {},
     "output_type": "execute_result"
    }
   ],
   "source": [
    "mse1 = np.sum(((0 + 5.88982042 * zp2) - ks) ** 2 / 10)\n",
    "mse1"
   ]
  },
  {
   "cell_type": "code",
   "execution_count": 26,
   "metadata": {},
   "outputs": [
    {
     "data": {
      "text/plain": [
       "56516.85841571943"
      ]
     },
     "execution_count": 26,
     "metadata": {},
     "output_type": "execute_result"
    }
   ],
   "source": [
    "def mse2(w1, y=ks, X=zp2, n=10):\n",
    "    return np.sum((w1 * X - y) ** 2) / n\n",
    "mse2(5.88982042)"
   ]
  },
  {
   "cell_type": "markdown",
   "metadata": {},
   "source": [
    "2.Посчитать коэффициент линейной регрессии при заработной плате (zp), используя градиентный спуск (без intercept)."
   ]
  },
  {
   "cell_type": "code",
   "execution_count": 30,
   "metadata": {},
   "outputs": [],
   "source": [
    "zp = np.array([35, 45, 190, 200, 40, 70, 54, 150, 120, 110])\n",
    "ks = np.array([401, 574, 874, 919, 459, 739, 653, 902, 746, 832])\n",
    "alpha = 1e-6\n",
    "w1 = 0.1\n",
    "\n",
    "def mse_(w1, y=ks, X=zp, n=10):\n",
    "    return np.sum((w1 * X - y) ** 2) / n"
   ]
  },
  {
   "cell_type": "code",
   "execution_count": 31,
   "metadata": {},
   "outputs": [
    {
     "name": "stdout",
     "output_type": "stream",
     "text": [
      "iteration: 0, w1 : 0.25952808000000005, mse: 493237.7212546963\n",
      "iteration: 100, w1 : 5.54537842245223, mse: 58151.31823171113\n",
      "iteration: 200, w1 : 5.868748638669329, mse: 56522.97550129376\n",
      "iteration: 300, w1 : 5.888531320728348, mse: 56516.88130936019\n",
      "iteration: 400, w1 : 5.8897415574471985, mse: 56516.85850140053\n",
      "iteration: 500, w1 : 5.889815595583751, mse: 56516.858416040064\n",
      "iteration: 600, w1 : 5.889820124983314, mse: 56516.85841572062\n",
      "iteration: 700, w1 : 5.889820402076462, mse: 56516.85841571941\n",
      "iteration: 800, w1 : 5.88982041902807, mse: 56516.8584157194\n",
      "iteration: 900, w1 : 5.889820420065112, mse: 56516.85841571941\n"
     ]
    }
   ],
   "source": [
    "for i in range(1000):\n",
    "    fp = (1 / 10) * np.sum(2 * (w1 * zp - ks) * zp)\n",
    "    w1 -= alpha * fp\n",
    "    if i % 100 == 0:\n",
    "        print(f'iteration: {i}, w1 : {w1}, mse: {mse_(w1) }')"
   ]
  },
  {
   "cell_type": "markdown",
   "metadata": {},
   "source": [
    "Lesson 8"
   ]
  },
  {
   "cell_type": "markdown",
   "metadata": {},
   "source": [
    "1. Провести дисперсионный анализ для определения того, есть ли различия среднего роста среди взрослых футболистов, хоккеистов и штангистов. Даны значения роста в трех группах случайно выбранных спортсменов: Футболисты: 173, 175, 180, 178, 177, 185, 183, 182. Хоккеисты: 177, 179, 180, 188, 177, 172, 171, 184, 180. Штангисты: 172, 173, 169, 177, 166, 180, 178, 177, 172, 166, 170."
   ]
  },
  {
   "cell_type": "code",
   "execution_count": 32,
   "metadata": {},
   "outputs": [],
   "source": [
    "footballers = np.array([173, 175, 180, 178, 177, 185, 183, 182])\n",
    "hockey_players = np.array([177, 179, 180, 188, 177, 172, 171, 184, 180])\n",
    "weightlifters = np.array([172, 173, 169, 177, 166, 180, 178, 177, 172, 166, 170])"
   ]
  },
  {
   "cell_type": "markdown",
   "metadata": {},
   "source": [
    "Cредний рост "
   ]
  },
  {
   "cell_type": "code",
   "execution_count": 35,
   "metadata": {},
   "outputs": [
    {
     "data": {
      "text/plain": [
       "(179.125, 178.66666666666666, 179.125, 176.46428571428572)"
      ]
     },
     "execution_count": 35,
     "metadata": {},
     "output_type": "execute_result"
    }
   ],
   "source": [
    "f_mean = footballers.mean()\n",
    "h_mean = hockey_players.mean()\n",
    "w_mean = weightlifters.mean()\n",
    "fulllist = np.hstack((footballers,hockey_players, weightlifters))\n",
    "full_mean = fulllist.mean()\n",
    "f_mean,h_mean,f_mean,full_mean"
   ]
  },
  {
   "cell_type": "code",
   "execution_count": 41,
   "metadata": {},
   "outputs": [
    {
     "data": {
      "text/plain": [
       "(830.9642857142854, 253.9074675324678, 577.0568181818182)"
      ]
     },
     "execution_count": 41,
     "metadata": {},
     "output_type": "execute_result"
    }
   ],
   "source": [
    "full_s2 = np.sum((fulllist - full_mean) ** 2)\n",
    "s2f = (f_mean - full_mean) ** 2 * len(footballers) + (h_mean - full_mean) ** 2 * len(hockey_players) + (w_mean - full_mean) ** 2 * len(weightlifters)\n",
    "s2_ost = np.sum((footballers - f_mean) ** 2) + np.sum((hockey_players - h_mean) ** 2) + np.sum((weightlifters - w_mean) ** 2)\n",
    "full_s2,s2f,s2_ost"
   ]
  },
  {
   "cell_type": "code",
   "execution_count": 42,
   "metadata": {},
   "outputs": [
    {
     "data": {
      "text/plain": [
       "830.964285714286"
      ]
     },
     "execution_count": 42,
     "metadata": {},
     "output_type": "execute_result"
    }
   ],
   "source": [
    "s2_ost + s2f"
   ]
  },
  {
   "cell_type": "markdown",
   "metadata": {},
   "source": [
    "Дисперсии"
   ]
  },
  {
   "cell_type": "code",
   "execution_count": 43,
   "metadata": {},
   "outputs": [
    {
     "data": {
      "text/plain": [
       "(30.776455026455015, 126.9537337662339, 23.08227272727273)"
      ]
     },
     "execution_count": 43,
     "metadata": {},
     "output_type": "execute_result"
    }
   ],
   "source": [
    "s2_general = full_s2 / (len(fulllist) - 1)\n",
    "s2_factor = s2f / (3 - 1)\n",
    "s2_residual = s2_ost / (len(fulllist) - 3)\n",
    "s2_general,s2_factor,s2_residual\n",
    "\n"
   ]
  },
  {
   "cell_type": "code",
   "execution_count": 44,
   "metadata": {},
   "outputs": [
    {
     "data": {
      "text/plain": [
       "(5.500053450812598, 28)"
      ]
     },
     "execution_count": 44,
     "metadata": {},
     "output_type": "execute_result"
    }
   ],
   "source": [
    "F_h = s2_factor / s2_residual\n",
    "len1=len(fulllist)\n",
    "F_h,len1"
   ]
  },
  {
   "cell_type": "code",
   "execution_count": 45,
   "metadata": {},
   "outputs": [
    {
     "data": {
      "text/plain": [
       "(2, 25)"
      ]
     },
     "execution_count": 45,
     "metadata": {},
     "output_type": "execute_result"
    }
   ],
   "source": [
    "alpha = 0.05\n",
    "d_f1 = 3 - 1\n",
    "d_f2 = len(fulllist) - 3\n",
    "d_f1, d_f2"
   ]
  },
  {
   "cell_type": "code",
   "execution_count": 46,
   "metadata": {},
   "outputs": [],
   "source": [
    "F_kr = 3.4928\n"
   ]
  },
  {
   "cell_type": "markdown",
   "metadata": {},
   "source": [
    "Так как F_kr < F_h следовательно отличия между выборками существенные"
   ]
  }
 ],
 "metadata": {
  "kernelspec": {
   "display_name": "Python 3",
   "language": "python",
   "name": "python3"
  },
  "language_info": {
   "codemirror_mode": {
    "name": "ipython",
    "version": 3
   },
   "file_extension": ".py",
   "mimetype": "text/x-python",
   "name": "python",
   "nbconvert_exporter": "python",
   "pygments_lexer": "ipython3",
   "version": "3.7.6"
  }
 },
 "nbformat": 4,
 "nbformat_minor": 4
}
